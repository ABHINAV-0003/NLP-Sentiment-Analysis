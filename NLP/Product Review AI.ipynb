{
 "cells": [
  {
   "cell_type": "code",
   "execution_count": 1,
   "id": "26be3e5e",
   "metadata": {},
   "outputs": [],
   "source": [
    "import pandas as pd\n",
    "import matplotlib.pyplot as plt\n",
    "import seaborn as sns\n",
    "import textblob\n",
    "import nltk\n",
    "import wordcloud\n",
    "from nltk.probability import FreqDist\n",
    "from wordcloud import WordCloud\n",
    "from collections import Counter\n"
   ]
  },
  {
   "cell_type": "code",
   "execution_count": 2,
   "id": "900814b2",
   "metadata": {},
   "outputs": [],
   "source": [
    "from textblob import TextBlob\n",
    "from nltk.stem.wordnet import WordNetLemmatizer\n",
    "import re\n",
    "from nltk.corpus import stopwords\n",
    "from nltk.stem.wordnet import WordNetLemmatizer\n",
    "from sklearn.feature_extraction.text import TfidfVectorizer\n",
    "from nltk.tokenize import word_tokenize\n",
    "import string\n",
    "import emoji\n",
    "from nltk.corpus import wordnet\n",
    "from nltk.stem import WordNetLemmatizer"
   ]
  },
  {
   "cell_type": "code",
   "execution_count": 3,
   "id": "8468af4f",
   "metadata": {},
   "outputs": [],
   "source": [
    "from sklearn.naive_bayes import MultinomialNB\n",
    "from sklearn.model_selection import train_test_split\n",
    "from sklearn.pipeline import Pipeline\n",
    "from sklearn.metrics import confusion_matrix, classification_report\n",
    "from sklearn.metrics import roc_curve, auc\n",
    "from sklearn.metrics import precision_recall_curve\n",
    "from sklearn.metrics import accuracy_score, precision_score, recall_score, fbeta_score"
   ]
  },
  {
   "cell_type": "code",
   "execution_count": 4,
   "id": "67ebc8ff",
   "metadata": {
    "scrolled": true
   },
   "outputs": [
    {
     "name": "stdout",
     "output_type": "stream",
     "text": [
      "        label                                             review\n",
      "0  __label__2  Great CD: My lovely Pat has one of the GREAT v...\n",
      "1  __label__2  One of the best game music soundtracks - for a...\n",
      "2  __label__1  Batteries died within a year ...: I bought thi...\n",
      "3  __label__2  works fine, but Maha Energy is better: Check o...\n",
      "4  __label__2  Great for the non-audiophile: Reviewed quite a...\n",
      "5  __label__1  DVD Player crapped out after one year: I also ...\n",
      "6  __label__1  Incorrect Disc: I love the style of this, but ...\n",
      "7  __label__1  DVD menu select problems: I cannot scroll thro...\n",
      "8  __label__2  Unique Weird Orientalia from the 1930's: Exoti...\n",
      "9  __label__1  Not an \"ultimate guide\": Firstly,I enjoyed the...\n"
     ]
    }
   ],
   "source": [
    "df = pd.read_csv('C:\\\\Users\\\\HP\\\\Desktop\\\\AI ASSIGMNET\\\\New folder\\\\Product review\\\\dataset.txt', sep=\"\\t\", header=None)\n",
    "df['label'] = df[0].str.split(' ').str[0]\n",
    "df['review'] = df[0].str.split(' ').str[1:]\n",
    "df['review'] = df['review'].apply(lambda x: ' '.join(x))\n",
    "df.drop(columns=[0], inplace=True)\n",
    "print(df.head(10))\n",
    "\n"
   ]
  },
  {
   "cell_type": "code",
   "execution_count": 5,
   "id": "e39b0bde",
   "metadata": {},
   "outputs": [
    {
     "data": {
      "text/html": [
       "<div>\n",
       "<style scoped>\n",
       "    .dataframe tbody tr th:only-of-type {\n",
       "        vertical-align: middle;\n",
       "    }\n",
       "\n",
       "    .dataframe tbody tr th {\n",
       "        vertical-align: top;\n",
       "    }\n",
       "\n",
       "    .dataframe thead th {\n",
       "        text-align: right;\n",
       "    }\n",
       "</style>\n",
       "<table border=\"1\" class=\"dataframe\">\n",
       "  <thead>\n",
       "    <tr style=\"text-align: right;\">\n",
       "      <th></th>\n",
       "      <th>label</th>\n",
       "      <th>review</th>\n",
       "      <th>sentiment</th>\n",
       "    </tr>\n",
       "  </thead>\n",
       "  <tbody>\n",
       "    <tr>\n",
       "      <th>0</th>\n",
       "      <td>__label__2</td>\n",
       "      <td>Great CD: My lovely Pat has one of the GREAT v...</td>\n",
       "      <td>positive</td>\n",
       "    </tr>\n",
       "    <tr>\n",
       "      <th>1</th>\n",
       "      <td>__label__2</td>\n",
       "      <td>One of the best game music soundtracks - for a...</td>\n",
       "      <td>positive</td>\n",
       "    </tr>\n",
       "    <tr>\n",
       "      <th>2</th>\n",
       "      <td>__label__1</td>\n",
       "      <td>Batteries died within a year ...: I bought thi...</td>\n",
       "      <td>negative</td>\n",
       "    </tr>\n",
       "    <tr>\n",
       "      <th>3</th>\n",
       "      <td>__label__2</td>\n",
       "      <td>works fine, but Maha Energy is better: Check o...</td>\n",
       "      <td>positive</td>\n",
       "    </tr>\n",
       "    <tr>\n",
       "      <th>4</th>\n",
       "      <td>__label__2</td>\n",
       "      <td>Great for the non-audiophile: Reviewed quite a...</td>\n",
       "      <td>positive</td>\n",
       "    </tr>\n",
       "    <tr>\n",
       "      <th>5</th>\n",
       "      <td>__label__1</td>\n",
       "      <td>DVD Player crapped out after one year: I also ...</td>\n",
       "      <td>negative</td>\n",
       "    </tr>\n",
       "    <tr>\n",
       "      <th>6</th>\n",
       "      <td>__label__1</td>\n",
       "      <td>Incorrect Disc: I love the style of this, but ...</td>\n",
       "      <td>negative</td>\n",
       "    </tr>\n",
       "    <tr>\n",
       "      <th>7</th>\n",
       "      <td>__label__1</td>\n",
       "      <td>DVD menu select problems: I cannot scroll thro...</td>\n",
       "      <td>negative</td>\n",
       "    </tr>\n",
       "    <tr>\n",
       "      <th>8</th>\n",
       "      <td>__label__2</td>\n",
       "      <td>Unique Weird Orientalia from the 1930's: Exoti...</td>\n",
       "      <td>positive</td>\n",
       "    </tr>\n",
       "    <tr>\n",
       "      <th>9</th>\n",
       "      <td>__label__1</td>\n",
       "      <td>Not an \"ultimate guide\": Firstly,I enjoyed the...</td>\n",
       "      <td>negative</td>\n",
       "    </tr>\n",
       "  </tbody>\n",
       "</table>\n",
       "</div>"
      ],
      "text/plain": [
       "        label                                             review sentiment\n",
       "0  __label__2  Great CD: My lovely Pat has one of the GREAT v...  positive\n",
       "1  __label__2  One of the best game music soundtracks - for a...  positive\n",
       "2  __label__1  Batteries died within a year ...: I bought thi...  negative\n",
       "3  __label__2  works fine, but Maha Energy is better: Check o...  positive\n",
       "4  __label__2  Great for the non-audiophile: Reviewed quite a...  positive\n",
       "5  __label__1  DVD Player crapped out after one year: I also ...  negative\n",
       "6  __label__1  Incorrect Disc: I love the style of this, but ...  negative\n",
       "7  __label__1  DVD menu select problems: I cannot scroll thro...  negative\n",
       "8  __label__2  Unique Weird Orientalia from the 1930's: Exoti...  positive\n",
       "9  __label__1  Not an \"ultimate guide\": Firstly,I enjoyed the...  negative"
      ]
     },
     "execution_count": 5,
     "metadata": {},
     "output_type": "execute_result"
    }
   ],
   "source": [
    "df['sentiment'] = df['label'].replace({'__label__1': 'negative', '__label__2': 'positive'})\n",
    "df.head(10)"
   ]
  },
  {
   "cell_type": "markdown",
   "id": "4f8d0f68",
   "metadata": {},
   "source": [
    "## Exploratory Data Analysis"
   ]
  },
  {
   "cell_type": "code",
   "execution_count": 6,
   "id": "406dd5c3",
   "metadata": {},
   "outputs": [
    {
     "name": "stdout",
     "output_type": "stream",
     "text": [
      "<class 'pandas.core.frame.DataFrame'>\n",
      "RangeIndex: 400000 entries, 0 to 399999\n",
      "Data columns (total 3 columns):\n",
      " #   Column     Non-Null Count   Dtype \n",
      "---  ------     --------------   ----- \n",
      " 0   label      400000 non-null  object\n",
      " 1   review     400000 non-null  object\n",
      " 2   sentiment  400000 non-null  object\n",
      "dtypes: object(3)\n",
      "memory usage: 9.2+ MB\n"
     ]
    }
   ],
   "source": [
    "df.info()"
   ]
  },
  {
   "cell_type": "code",
   "execution_count": 7,
   "id": "ee865303",
   "metadata": {},
   "outputs": [
    {
     "name": "stdout",
     "output_type": "stream",
     "text": [
      "positive    200000\n",
      "negative    200000\n",
      "Name: sentiment, dtype: int64\n"
     ]
    }
   ],
   "source": [
    "print(df['sentiment'].value_counts())"
   ]
  },
  {
   "cell_type": "code",
   "execution_count": 8,
   "id": "c3e97e04",
   "metadata": {},
   "outputs": [
    {
     "data": {
      "image/png": "[encoded data removed]",
      "text/plain": [
       "<Figure size 640x480 with 1 Axes>"
      ]
     },
     "metadata": {},
     "output_type": "display_data"
    }
   ],
   "source": [
    "df['sentiment'].value_counts().plot(kind='bar')\n",
    "plt.show()"
   ]
  },
  {
   "cell_type": "code",
   "execution_count": 9,
   "id": "cc76d510",
   "metadata": {},
   "outputs": [
    {
     "name": "stdout",
     "output_type": "stream",
     "text": [
      "count    400000.000000\n",
      "mean        431.429630\n",
      "std         237.435383\n",
      "min          99.000000\n",
      "25%         231.000000\n",
      "50%         383.000000\n",
      "75%         595.000000\n",
      "max        1015.000000\n",
      "Name: length, dtype: float64\n"
     ]
    },
    {
     "data": {
      "image/png": "[encoded data removed]",
      "text/plain": [
       "<Figure size 640x480 with 1 Axes>"
      ]
     },
     "metadata": {},
     "output_type": "display_data"
    }
   ],
   "source": [
    "df['length'] = df['review'].apply(len)\n",
    "print(df['length'].describe())\n",
    "df['length'].plot(kind='hist', bins=50)\n",
    "plt.show()"
   ]
  },
  {
   "cell_type": "code",
   "execution_count": 10,
   "id": "2955e9de",
   "metadata": {},
   "outputs": [
    {
     "name": "stdout",
     "output_type": "stream",
     "text": [
      "count    400000.000000\n",
      "mean         78.424145\n",
      "std          42.798609\n",
      "min           6.000000\n",
      "25%          42.000000\n",
      "50%          70.000000\n",
      "75%         108.000000\n",
      "max         230.000000\n",
      "Name: word_count, dtype: float64\n"
     ]
    },
    {
     "data": {
      "image/png": "[encoded data removed]",
      "text/plain": [
       "<Figure size 640x480 with 1 Axes>"
      ]
     },
     "metadata": {},
     "output_type": "display_data"
    }
   ],
   "source": [
    "df['word_count'] = df['review'].apply(lambda x: len(str(x).split()))\n",
    "print(df['word_count'].describe())\n",
    "df['word_count'].plot(kind='hist', bins=50)\n",
    "plt.title('Distribution of Word Counts')\n",
    "plt.show()"
   ]
  },
  {
   "cell_type": "code",
   "execution_count": 11,
   "id": "e046ce2e",
   "metadata": {},
   "outputs": [
    {
     "data": {
      "image/png": "[encoded data removed]",
      "text/plain": [
       "<Figure size 1000x500 with 1 Axes>"
      ]
     },
     "metadata": {},
     "output_type": "display_data"
    }
   ],
   "source": [
    "all_words = [word for tweet in df['review'] for word in tweet.split()]\n",
    "word_counts = Counter(all_words)\n",
    "common_words = word_counts.most_common(10)\n",
    "words, counts = zip(*common_words)\n",
    "plt.figure(figsize=(10, 5))\n",
    "plt.bar(words, counts, color='b')\n",
    "plt.xlabel('Words')\n",
    "plt.ylabel('Frequency')\n",
    "plt.title('Frequency of the 10 Most Common Words')\n",
    "plt.show()"
   ]
  },
  {
   "cell_type": "markdown",
   "id": "0c05111a",
   "metadata": {},
   "source": [
    "# Preprocessing"
   ]
  },
  {
   "cell_type": "markdown",
   "id": "f46fe081",
   "metadata": {},
   "source": [
    "## Cleaning the data"
   ]
  },
  {
   "cell_type": "code",
   "execution_count": 12,
   "id": "06ca3b41",
   "metadata": {},
   "outputs": [],
   "source": [
    "def clean_text(text):\n",
    "\n",
    "    text = str(text).lower()\n",
    "    \n",
    "    # Remove Twitter handles\n",
    "    text = re.sub('@\\w+', '', text)\n",
    "    \n",
    "    # Remove text in square brackets\n",
    "    text = re.sub('\\[.*?\\]', '', text)\n",
    "    \n",
    "    # Remove URLs\n",
    "    text = re.sub('https?://\\S+|www\\.\\S+', '', text)\n",
    "    \n",
    "    # Remove HTML tags\n",
    "    text = re.sub('<.*?>+', '', text)\n",
    "    \n",
    "    # Remove punctuation\n",
    "    text = re.sub('[%s]' % re.escape(string.punctuation), '', text)\n",
    "    \n",
    "    # Remove new line characters\n",
    "    text = re.sub('\\n', '', text)\n",
    "    \n",
    "    # Remove words that contain numbers\n",
    "    text = re.sub('\\w*\\d\\w*', '', text)\n",
    "    \n",
    "    # Convert emojis to words\n",
    "    text = emoji.demojize(text, delimiters=(\" \", \" \"))\n",
    "    \n",
    "    return text"
   ]
  },
  {
   "cell_type": "code",
   "execution_count": 13,
   "id": "e3de0cc9",
   "metadata": {},
   "outputs": [
    {
     "name": "stdout",
     "output_type": "stream",
     "text": [
      "Data before preprocessing\n"
     ]
    },
    {
     "data": {
      "text/plain": [
       "0    Great CD: My lovely Pat has one of the GREAT v...\n",
       "1    One of the best game music soundtracks - for a...\n",
       "2    Batteries died within a year ...: I bought thi...\n",
       "3    works fine, but Maha Energy is better: Check o...\n",
       "4    Great for the non-audiophile: Reviewed quite a...\n",
       "Name: review, dtype: object"
      ]
     },
     "execution_count": 13,
     "metadata": {},
     "output_type": "execute_result"
    }
   ],
   "source": [
    "print(\"Data before preprocessing\")\n",
    "df['review'].head(5)"
   ]
  },
  {
   "cell_type": "code",
   "execution_count": 14,
   "id": "9e5ccfef",
   "metadata": {},
   "outputs": [
    {
     "name": "stdout",
     "output_type": "stream",
     "text": [
      "Data after preprocessing\n",
      "0    great cd my lovely pat has one of the great vo...\n",
      "1    one of the best game music soundtracks  for a ...\n",
      "2    batteries died within a year  i bought this ch...\n",
      "3    works fine but maha energy is better check out...\n",
      "4    great for the nonaudiophile reviewed quite a b...\n",
      "Name: cleaned_text, dtype: object\n"
     ]
    }
   ],
   "source": [
    "df['cleaned_text'] = df['review'].apply(clean_text)\n",
    "print(\"Data after preprocessing\")\n",
    "print(df['cleaned_text'].head(5))"
   ]
  },
  {
   "cell_type": "markdown",
   "id": "e4ecc0e3",
   "metadata": {},
   "source": [
    "## Tokenization"
   ]
  },
  {
   "cell_type": "code",
   "execution_count": 15,
   "id": "a2ed7fdc",
   "metadata": {},
   "outputs": [
    {
     "name": "stdout",
     "output_type": "stream",
     "text": [
      "Data after tokenization\n"
     ]
    },
    {
     "data": {
      "text/plain": [
       "0    [great, cd, my, lovely, pat, has, one, of, the...\n",
       "1    [one, of, the, best, game, music, soundtracks,...\n",
       "2    [batteries, died, within, a, year, i, bought, ...\n",
       "3    [works, fine, but, maha, energy, is, better, c...\n",
       "4    [great, for, the, nonaudiophile, reviewed, qui...\n",
       "Name: tokenized_text, dtype: object"
      ]
     },
     "execution_count": 15,
     "metadata": {},
     "output_type": "execute_result"
    }
   ],
   "source": [
    "df['tokenized_text']=df['cleaned_text'].apply(word_tokenize)\n",
    "print(\"Data after tokenization\")\n",
    "df['tokenized_text'].head(5)"
   ]
  },
  {
   "cell_type": "markdown",
   "id": "40aec61c",
   "metadata": {},
   "source": [
    "## Removing Stop Words"
   ]
  },
  {
   "cell_type": "code",
   "execution_count": 16,
   "id": "5440f6d0",
   "metadata": {},
   "outputs": [
    {
     "name": "stdout",
     "output_type": "stream",
     "text": [
      "The stop words are\n",
      " {'did', 'before', 'than', 'further', 'is', 'were', 'those', 'both', 'doing', 'we', 'are', \"shouldn't\", 'been', 'off', 'our', 'if', 'didn', 'or', 'through', 'm', 'while', 'o', 'once', 'needn', 'about', 'myself', 'over', 'ourselves', 'more', 'isn', 'shouldn', \"weren't\", 'be', 'for', 'am', 'their', \"mightn't\", \"hasn't\", 'because', 'again', 'an', 'but', \"she's\", 'ma', \"won't\", 'as', 'all', \"hadn't\", 'himself', 'was', 'ain', 'she', 'and', 'not', 'should', 'hasn', 'your', 'very', 'themselves', 'to', 'had', 'such', \"you'd\", \"haven't\", \"should've\", 'being', 'then', 'can', 've', 'how', 'you', 'above', 'doesn', \"wasn't\", \"you'll\", 'it', 'on', 'where', 'him', 'my', \"mustn't\", 'yourself', 'most', 'below', 'the', 'same', 'which', \"you're\", 'after', 'in', 'other', \"didn't\", 'yourselves', 'hers', 'its', 'do', 'no', 'from', 'only', \"shan't\", 'who', 'ours', 'aren', 'between', 'them', 'a', 'i', 'few', 'mustn', 'they', 'what', 'any', \"that'll\", 'won', 'up', 'too', 'having', 'out', \"you've\", 'that', \"isn't\", 'here', 're', 'why', 'whom', \"needn't\", 'her', 'until', 's', 'now', 'this', \"aren't\", 'his', 'don', \"it's\", 'theirs', \"couldn't\", 'under', 'nor', 'by', 'so', 'of', 'he', 'have', 't', 'own', 'wasn', 'has', 'with', 'yours', 'itself', 'against', 'just', 'couldn', 'there', 'hadn', 'herself', \"wouldn't\", 'will', 'down', 'during', 'these', 'each', 'y', 'd', 'me', 'haven', 'when', 'weren', 'wouldn', 'mightn', 'at', 'some', 'into', \"doesn't\", 'shan', \"don't\", 'does', 'll'}\n"
     ]
    }
   ],
   "source": [
    "stop_words = set(stopwords.words('english'))\n",
    "print(\"The stop words are\\n\",stop_words)"
   ]
  },
  {
   "cell_type": "code",
   "execution_count": 17,
   "id": "215b66cb",
   "metadata": {},
   "outputs": [
    {
     "name": "stdout",
     "output_type": "stream",
     "text": [
      "Data after removing stopwords:\n",
      "0    [great, cd, lovely, pat, one, great, voices, g...\n",
      "1    [one, best, game, music, soundtracks, game, di...\n",
      "2    [batteries, died, within, year, bought, charge...\n",
      "3    [works, fine, maha, energy, better, check, mah...\n",
      "4    [great, nonaudiophile, reviewed, quite, bit, c...\n",
      "Name: tokenized_text, dtype: object\n"
     ]
    }
   ],
   "source": [
    "df['tokenized_text'] = df['tokenized_text'].apply(lambda x: [word for word in x if word not in stop_words])\n",
    "print(\"Data after removing stopwords:\")\n",
    "print(df['tokenized_text'].head(5))"
   ]
  },
  {
   "cell_type": "markdown",
   "id": "1e9ca7cf",
   "metadata": {},
   "source": [
    "## POS Tagging"
   ]
  },
  {
   "cell_type": "code",
   "execution_count": 18,
   "id": "39a78cd5",
   "metadata": {},
   "outputs": [
    {
     "name": "stdout",
     "output_type": "stream",
     "text": [
      "Data after POS tagging\n",
      "0    [(great, JJ), (cd, NN), (lovely, RB), (pat, JJ...\n",
      "1    [(one, CD), (best, JJS), (game, NN), (music, N...\n",
      "2    [(batteries, NNS), (died, VBD), (within, IN), ...\n",
      "3    [(works, NNS), (fine, VBP), (maha, NN), (energ...\n",
      "4    [(great, JJ), (nonaudiophile, JJ), (reviewed, ...\n",
      "Name: pos_tagged_text, dtype: object\n"
     ]
    }
   ],
   "source": [
    "df['pos_tagged_text'] = df['tokenized_text'].apply(lambda x: nltk.pos_tag(x))\n",
    "print(\"Data after POS tagging\")\n",
    "print(df['pos_tagged_text'].head(5))"
   ]
  },
  {
   "cell_type": "markdown",
   "id": "37d0ebb3",
   "metadata": {},
   "source": [
    "## Lemmatization"
   ]
  },
  {
   "cell_type": "code",
   "execution_count": 19,
   "id": "d8e382fb",
   "metadata": {
    "scrolled": true
   },
   "outputs": [
    {
     "name": "stdout",
     "output_type": "stream",
     "text": [
      "Data after lemmatization:\n"
     ]
    },
    {
     "data": {
      "text/plain": [
       "0    [great, cd, lovely, pat, one, great, voice, ge...\n",
       "1    [one, best, game, music, soundtrack, game, did...\n",
       "2    [battery, died, within, year, bought, charger,...\n",
       "3    [work, fine, maha, energy, better, check, maha...\n",
       "4    [great, nonaudiophile, reviewed, quite, bit, c...\n",
       "Name: lemmatized_text, dtype: object"
      ]
     },
     "execution_count": 19,
     "metadata": {},
     "output_type": "execute_result"
    }
   ],
   "source": [
    "lemmatizer = WordNetLemmatizer()\n",
    "\n",
    "df['lemmatized_text'] = df['pos_tagged_text'].apply(lambda x: [lemmatizer.lemmatize(word[0]) for word in x])\n",
    "\n",
    "print(\"Data after lemmatization:\")\n",
    "\n",
    "df['lemmatized_text'].head(5)"
   ]
  },
  {
   "cell_type": "code",
   "execution_count": 20,
   "id": "6e9c9ecf",
   "metadata": {},
   "outputs": [],
   "source": [
    "df=df.dropna()"
   ]
  },
  {
   "cell_type": "markdown",
   "id": "8c434f1a",
   "metadata": {},
   "source": [
    "## Splitting of Data into Train and Test Set"
   ]
  },
  {
   "cell_type": "code",
   "execution_count": 21,
   "id": "3c6d1044",
   "metadata": {},
   "outputs": [
    {
     "name": "stdout",
     "output_type": "stream",
     "text": [
      "Training set size: 320000\n",
      "Test set size: 80000\n"
     ]
    }
   ],
   "source": [
    "X_train, X_test, y_train, y_test = train_test_split(df['lemmatized_text'], df['sentiment'], test_size=0.2, random_state=42)\n",
    "vectorizer = TfidfVectorizer()\n",
    "X_train = vectorizer.fit_transform(X_train.apply(' '.join))\n",
    "X_test = vectorizer.transform(X_test.apply(' '.join))\n",
    "print(\"Training set size:\", X_train.shape[0])\n",
    "print(\"Test set size:\", X_test.shape[0])"
   ]
  },
  {
   "cell_type": "markdown",
   "id": "9d9ccb78",
   "metadata": {},
   "source": [
    "## Training Logistic Model"
   ]
  },
  {
   "cell_type": "code",
   "execution_count": 22,
   "id": "7af39c57",
   "metadata": {},
   "outputs": [
    {
     "name": "stdout",
     "output_type": "stream",
     "text": [
      "              precision    recall  f1-score   support\n",
      "\n",
      "    negative       0.90      0.88      0.89     39896\n",
      "    positive       0.89      0.90      0.89     40104\n",
      "\n",
      "    accuracy                           0.89     80000\n",
      "   macro avg       0.89      0.89      0.89     80000\n",
      "weighted avg       0.89      0.89      0.89     80000\n",
      "\n"
     ]
    }
   ],
   "source": [
    "from sklearn.linear_model import LogisticRegression\n",
    "from sklearn.metrics import classification_report\n",
    "\n",
    "model = LogisticRegression()\n",
    "model.fit(X_train, y_train)\n",
    "y_pred = model.predict(X_test)\n",
    "print(classification_report(y_test, y_pred))"
   ]
  },
  {
   "cell_type": "code",
   "execution_count": 23,
   "id": "c00011e7",
   "metadata": {},
   "outputs": [
    {
     "data": {
      "image/png": "[encoded data removed]",
      "text/plain": [
       "<Figure size 640x480 with 2 Axes>"
      ]
     },
     "metadata": {},
     "output_type": "display_data"
    }
   ],
   "source": [
    "import seaborn as sns\n",
    "import matplotlib.pyplot as plt\n",
    "from sklearn.metrics import confusion_matrix\n",
    "\n",
    "# Calculate confusion matrix\n",
    "cm = confusion_matrix(y_test, y_pred)\n",
    "\n",
    "# Create a heatmap\n",
    "sns.heatmap(cm, annot=True, fmt='d', cmap='Blues')\n",
    "\n",
    "plt.xlabel('Predicted')\n",
    "plt.ylabel('True')\n",
    "plt.title('Confusion Matrix')\n",
    "plt.show()"
   ]
  },
  {
   "cell_type": "code",
   "execution_count": 24,
   "id": "2720f7bb",
   "metadata": {
    "scrolled": false
   },
   "outputs": [
    {
     "name": "stdout",
     "output_type": "stream",
     "text": [
      "Accuracy: 0.8915375\n",
      "Precision: 0.8916063611098787\n",
      "Recall: 0.8915375\n",
      "F2 Score: 0.8915247873433607\n"
     ]
    }
   ],
   "source": [
    "accuracy = accuracy_score(y_test, y_pred)\n",
    "print(\"Accuracy:\", accuracy)\n",
    "precision = precision_score(y_test, y_pred, average='weighted')\n",
    "print(\"Precision:\", precision)\n",
    "recall = recall_score(y_test, y_pred, average='weighted')\n",
    "print(\"Recall:\", recall)\n",
    "\n",
    "f2_score = fbeta_score(y_test, y_pred, beta=2, average='weighted')\n",
    "print(\"F2 Score:\", f2_score)"
   ]
  },
  {
   "cell_type": "markdown",
   "id": "5d27f01b",
   "metadata": {},
   "source": [
    "## Training Naive Bias Model\n"
   ]
  },
  {
   "cell_type": "code",
   "execution_count": 25,
   "id": "46daada6",
   "metadata": {
    "scrolled": false
   },
   "outputs": [
    {
     "name": "stdout",
     "output_type": "stream",
     "text": [
      "              precision    recall  f1-score   support\n",
      "\n",
      "    negative       0.83      0.86      0.84     39896\n",
      "    positive       0.86      0.82      0.84     40104\n",
      "\n",
      "    accuracy                           0.84     80000\n",
      "   macro avg       0.84      0.84      0.84     80000\n",
      "weighted avg       0.84      0.84      0.84     80000\n",
      "\n"
     ]
    },
    {
     "data": {
      "image/png": "[encoded data removed]",
      "text/plain": [
       "<Figure size 640x480 with 2 Axes>"
      ]
     },
     "metadata": {},
     "output_type": "display_data"
    }
   ],
   "source": [
    "from sklearn.naive_bayes import MultinomialNB\n",
    "nb_model = MultinomialNB()\n",
    "nb_model.fit(X_train, y_train)\n",
    "nb_y_pred = nb_model.predict(X_test)\n",
    "print(classification_report(y_test, nb_y_pred))\n",
    "cmnb = confusion_matrix(y_test, nb_y_pred)\n",
    "sns.heatmap(cmnb, annot=True, fmt='d', cmap='Blues')\n",
    "plt.xlabel('Predicted')\n",
    "plt.ylabel('True')\n",
    "plt.title('Confusion Matrix')\n",
    "plt.show()\n"
   ]
  },
  {
   "cell_type": "code",
   "execution_count": 26,
   "id": "f1cb87dd",
   "metadata": {},
   "outputs": [
    {
     "name": "stdout",
     "output_type": "stream",
     "text": [
      "Accuracy: 0.8408375\n",
      "Precision: 0.8414578083766426\n",
      "Recall: 0.8408375\n",
      "F2 Score: 0.8407237644283192\n"
     ]
    }
   ],
   "source": [
    "accuracy_nb = accuracy_score(y_test, nb_y_pred)\n",
    "print(\"Accuracy:\", accuracy_nb)\n",
    "precision_nb = precision_score(y_test, nb_y_pred, average='weighted')   \n",
    "print(\"Precision:\", precision_nb)\n",
    "recall_nb = recall_score(y_test, nb_y_pred, average='weighted')\n",
    "print(\"Recall:\", recall_nb)\n",
    "f2_score_nb = fbeta_score(y_test, nb_y_pred, beta=2, average='weighted')\n",
    "print(\"F2 Score:\", f2_score_nb)\n"
   ]
  },
  {
   "cell_type": "code",
   "execution_count": null,
   "id": "08715a7b",
   "metadata": {},
   "outputs": [],
   "source": []
  }
 ],
 "metadata": {
  "kernelspec": {
   "display_name": "Python 3 (ipykernel)",
   "language": "python",
   "name": "python3"
  },
  "language_info": {
   "codemirror_mode": {
    "name": "ipython",
    "version": 3
   },
   "file_extension": ".py",
   "mimetype": "text/x-python",
   "name": "python",
   "nbconvert_exporter": "python",
   "pygments_lexer": "ipython3",
   "version": "3.11.3"
  }
 },
 "nbformat": 4,
 "nbformat_minor": 5
}
